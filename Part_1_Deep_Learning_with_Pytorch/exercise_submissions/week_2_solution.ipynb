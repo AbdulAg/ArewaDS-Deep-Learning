{
 "cells": [
  {
   "cell_type": "markdown",
   "metadata": {
    "id": "YqcHxiZbU9iu"
   },
   "source": [
    "<a href=\"https://colab.research.google.com/github/arewadataScience/ArewaDS-Deep-Learning/blob/main/Part_1_Deep_Learning_with_Pytorch/week2/week_2_exercises.ipynb\" target=\"_parent\"><img src=\"https://colab.research.google.com/assets/colab-badge.svg\" alt=\"Open In Colab\"/></a>"
   ]
  },
  {
   "cell_type": "markdown",
   "metadata": {
    "id": "GnDQSqOGU9iz"
   },
   "source": [
    "## Arewa DataScience Academy\n",
    "### Deep Learning Cohort 2.0\n",
    "\n",
    "### WEEK 2 Exercises"
   ]
  },
  {
   "cell_type": "markdown",
   "metadata": {
    "id": "vSRClz-LU9i1"
   },
   "source": [
    "### Exercises:\n",
    "Please, see week 2 exercises from [**Learn PyTorch for Deep Learning**: 01. Pytorch Workflows](https://www.learnpytorch.io/01_pytorch_workflow/#exercises)"
   ]
  },
  {
   "cell_type": "markdown",
   "metadata": {},
   "source": [
    "**Arewa Data Science Academy**\n",
    "\n",
    "**Deep Learning Cohort 1.0**\n",
    "\n",
    "**Name: Abdulrahman Abdullahi Garba**\n",
    "\n",
    "**Email: abdulrahmanabdullahigarba@gmail.com**\n",
    "\n",
    "**Title: Week 2 Solution**"
   ]
  },
  {
   "cell_type": "markdown",
   "metadata": {
    "id": "1LtjrwVjU9i1"
   },
   "source": [
    "### Additional Exercise\n",
    "[Click to view PDF 📄](ArewaDS_Deep_Learning_Advanced_Assignment_Week2.pdf)"
   ]
  },
  {
   "cell_type": "code",
   "execution_count": 2,
   "metadata": {
    "id": "CVdSF7oFZ2yZ"
   },
   "outputs": [],
   "source": [
    "import torch\n",
    "from torch import nn\n",
    "import matplotlib.pyplot as plt\n"
   ]
  },
  {
   "cell_type": "code",
   "execution_count": 19,
   "metadata": {
    "colab": {
     "base_uri": "https://localhost:8080/"
    },
    "id": "c1C0qxRmU9i2",
    "outputId": "20ce0777-466e-4516-8539-b8cd952785d2",
    "vscode": {
     "languageId": "plaintext"
    }
   },
   "outputs": [
    {
     "data": {
      "text/plain": [
       "(tensor([[0.0000],\n",
       "         [0.0100],\n",
       "         [0.0200],\n",
       "         [0.0300],\n",
       "         [0.0400],\n",
       "         [0.0500],\n",
       "         [0.0600],\n",
       "         [0.0700],\n",
       "         [0.0800],\n",
       "         [0.0900]]),\n",
       " tensor([[0.9000],\n",
       "         [0.9030],\n",
       "         [0.9060],\n",
       "         [0.9090],\n",
       "         [0.9120],\n",
       "         [0.9150],\n",
       "         [0.9180],\n",
       "         [0.9210],\n",
       "         [0.9240],\n",
       "         [0.9270]]))"
      ]
     },
     "execution_count": 19,
     "metadata": {},
     "output_type": "execute_result"
    }
   ],
   "source": [
    "# Create a straight line using weight * X + bias\n",
    "weight, bias = 0.3, 0.9\n",
    "start, end, step = 0, 1, 0.01\n",
    "\n",
    "X = torch.arange(start, end, step).unsqueeze(dim=1)\n",
    "y = weight * X + bias\n",
    "\n",
    "X[:10], y[:10]"
   ]
  },
  {
   "cell_type": "code",
   "execution_count": 20,
   "metadata": {
    "colab": {
     "base_uri": "https://localhost:8080/"
    },
    "id": "qYNFFaA2jDtc",
    "outputId": "4c97fd7b-9b14-4128-9bef-f11fb58ecaf5"
   },
   "outputs": [
    {
     "data": {
      "text/plain": [
       "(80, 80, 20, 20)"
      ]
     },
     "execution_count": 20,
     "metadata": {},
     "output_type": "execute_result"
    }
   ],
   "source": [
    "# Train_test_split\n",
    "train_split = int(len(X) * 0.8)\n",
    "X_train, y_train = X[:train_split], y[:train_split]\n",
    "X_test, y_test = X[train_split:], y[train_split:]\n",
    "\n",
    "len(X_train), len(y_train), len(X_test), len(y_test)"
   ]
  },
  {
   "cell_type": "code",
   "execution_count": 28,
   "metadata": {
    "id": "WS06g03XniYJ"
   },
   "outputs": [],
   "source": [
    "# Plot the training and testing data so it becomes visual\n",
    "def plot_predictions(train_data = X_train,\n",
    "                     train_labels = y_train,\n",
    "                     test_data = X_test,\n",
    "                     test_labels = y_test,\n",
    "                     predictions = None):\n",
    "\n",
    "  # set the figure size\n",
    "  plt.figure(figsize=(8, 5))\n",
    "  #Plot training and test data\n",
    "  plt.scatter(train_data, train_labels, c=\"b\", s=4, label=\"Training data\")\n",
    "  plt.scatter(test_data, test_labels, c=\"g\", s=4, label=\"Testing data\")\n",
    "\n",
    "  if predictions is not None:\n",
    "    plt.scatter(test_data, predictions, c=\"r\", s=4, label=\"Predictions\")\n",
    "\n",
    "  plt.legend(prop={\"size\": 10})"
   ]
  },
  {
   "cell_type": "code",
   "execution_count": 29,
   "metadata": {
    "colab": {
     "base_uri": "https://localhost:8080/",
     "height": 445
    },
    "id": "RsP-mUcns0TK",
    "outputId": "4715399b-c126-4d36-e451-a57d1e174c74"
   },
   "outputs": [
    {
     "data": {
      "image/png": "[encoded data removed]",
      "text/plain": [
       "<Figure size 800x500 with 1 Axes>"
      ]
     },
     "metadata": {},
     "output_type": "display_data"
    }
   ],
   "source": [
    "plot_predictions()"
   ]
  },
  {
   "cell_type": "code",
   "execution_count": 30,
   "metadata": {
    "id": "t8wl3z5mF-cr"
   },
   "outputs": [],
   "source": [
    "# Building the Model\n",
    "# First, we will subclass nn.Module\n",
    "class LinearRegressionModel(nn.Module):\n",
    "  def __init__(self):\n",
    "    super().__init__()\n",
    "    self.weights = nn.Parameter(torch.randn(1, dtype=torch.float), requires_grad=True)\n",
    "    self.bias = nn.Parameter(torch.randn(1, dtype=float), requires_grad=True)\n",
    "\n",
    "  # Define the Forward Function\n",
    "  def forward(self, x: torch.Tensor) -> torch.Tensor:\n",
    "    return self.weights * x + self.bias"
   ]
  },
  {
   "cell_type": "code",
   "execution_count": 31,
   "metadata": {
    "colab": {
     "base_uri": "https://localhost:8080/"
    },
    "id": "u5ctfeTUHpll",
    "outputId": "1e813977-8485-433b-e5ee-7abcc97fe197"
   },
   "outputs": [
    {
     "data": {
      "text/plain": [
       "OrderedDict([('weights', tensor([0.4617])),\n",
       "             ('bias', tensor([0.2674], dtype=torch.float64))])"
      ]
     },
     "execution_count": 31,
     "metadata": {},
     "output_type": "execute_result"
    }
   ],
   "source": [
    "pytorch_model = LinearRegressionModel()\n",
    "pytorch_model.state_dict()"
   ]
  },
  {
   "cell_type": "code",
   "execution_count": 32,
   "metadata": {
    "id": "2NWClsz6Jzbu"
   },
   "outputs": [],
   "source": [
    "# Creating the Loss Function and Optimizer\n",
    "loss_func = nn.L1Loss()\n",
    "optimizer = torch.optim.SGD(params=pytorch_model.parameters(), lr=0.01)"
   ]
  },
  {
   "cell_type": "code",
   "execution_count": 33,
   "metadata": {
    "colab": {
     "base_uri": "https://localhost:8080/"
    },
    "id": "mOFYZv3EjZjr",
    "outputId": "949f0eda-0d8f-49c5-ef57-1b9fdece30cf"
   },
   "outputs": [
    {
     "name": "stdout",
     "output_type": "stream",
     "text": [
      "Epoch 0 | MAE Train Loss 0.5687945086166258 | MAE Test Loss 0.47443065239763776\n",
      "Epoch 20 | MAE Train Loss 0.33758950979746816 | MAE Test Loss 0.20372565730190778\n",
      "Epoch 40 | MAE Train Loss 0.10896926289071032 | MAE Test Loss 0.06317872892045476\n",
      "Epoch 60 | MAE Train Loss 0.06621249217532217 | MAE Test Loss 0.13756586818122374\n",
      "Epoch 80 | MAE Train Loss 0.058621234728788184 | MAE Test Loss 0.13479196242713395\n",
      "Epoch 100 | MAE Train Loss 0.05176721103565873 | MAE Test Loss 0.11949668280505658\n",
      "Epoch 120 | MAE Train Loss 0.04491318664403733 | MAE Test Loss 0.10420139871263086\n",
      "Epoch 140 | MAE Train Loss 0.038059127514083906 | MAE Test Loss 0.08890590302371618\n",
      "Epoch 160 | MAE Train Loss 0.031206961593796507 | MAE Test Loss 0.07292214755439437\n",
      "Epoch 180 | MAE Train Loss 0.024355775823417185 | MAE Test Loss 0.0565944253625843\n",
      "Epoch 200 | MAE Train Loss 0.017503610552145204 | MAE Test Loss 0.040610671383378615\n",
      "Epoch 220 | MAE Train Loss 0.010652424642067334 | MAE Test Loss 0.024282944721219744\n",
      "Epoch 240 | MAE Train Loss 0.003802351660579098 | MAE Test Loss 0.008301430386541497\n",
      "Epoch 260 | MAE Train Loss 0.008467035686647549 | MAE Test Loss 0.0017566404519097744\n",
      "Epoch 280 | MAE Train Loss 0.008467035686647549 | MAE Test Loss 0.0017566404519097744\n"
     ]
    }
   ],
   "source": [
    "#Num of Epochs\n",
    "epochs = 300\n",
    "\n",
    "train_loss_values = []\n",
    "test_loss_values = []\n",
    "epochs_count = []\n",
    "\n",
    "for epoch in range(epochs):\n",
    "  #Training\n",
    "  pytorch_model.train()\n",
    "\n",
    "  #Forward Pass\n",
    "  y_pred = pytorch_model(X_train)\n",
    "  #print(y_pred)\n",
    "  #Calculate the loss\n",
    "  loss = loss_func(y_pred, y_train)\n",
    "  #Optimze the function using zero_grad()\n",
    "  optimizer.zero_grad()\n",
    "  #Perform backpropagation on the loss\n",
    "  loss.backward()\n",
    "  #Update the optimizer\n",
    "  optimizer.step()\n",
    "\n",
    "  #Testing, first we put the model on evaluation mode\n",
    "  pytorch_model.eval()\n",
    "\n",
    "  with torch.inference_mode():\n",
    "    #Apply forward pass\n",
    "    test_pred = pytorch_model(X_test)\n",
    "    #Calculate the loss\n",
    "    test_loss = loss_func(test_pred, y_test.type(torch.float))\n",
    "\n",
    "    #Operations\n",
    "    if epoch % 20 == 0:\n",
    "      epochs_count.append(epoch)\n",
    "      train_loss_values.append(loss.detach().cpu().numpy())\n",
    "      test_loss_values.append(test_loss.detach().cpu().numpy())\n",
    "      print(f\"Epoch {epoch} | MAE Train Loss {loss} | MAE Test Loss {test_loss}\")"
   ]
  },
  {
   "cell_type": "code",
   "execution_count": 34,
   "metadata": {
    "colab": {
     "base_uri": "https://localhost:8080/",
     "height": 489
    },
    "id": "o1KhjUDSNJ43",
    "outputId": "41f2f0c8-62b3-4e68-8b92-588344d85234"
   },
   "outputs": [
    {
     "data": {
      "text/plain": [
       "<matplotlib.legend.Legend at 0x7c6083a1f490>"
      ]
     },
     "execution_count": 34,
     "metadata": {},
     "output_type": "execute_result"
    },
    {
     "data": {
      "image/png": "[encoded data removed]",
      "text/plain": [
       "<Figure size 640x480 with 1 Axes>"
      ]
     },
     "metadata": {},
     "output_type": "display_data"
    }
   ],
   "source": [
    "#Plotting the Loss curves\n",
    "plt.title(\"Training and Testing Loss Curves\")\n",
    "plt.plot(epochs_count, train_loss_values, label=\"Train Loss\")\n",
    "plt.plot(epochs_count, test_loss_values, label=\"Test Loss\")\n",
    "plt.ylabel(\"Loss\")\n",
    "plt.xlabel(\"Epochs\")\n",
    "plt.legend()"
   ]
  },
  {
   "cell_type": "code",
   "execution_count": 40,
   "metadata": {
    "colab": {
     "base_uri": "https://localhost:8080/"
    },
    "id": "dBBDfA7ZVyh3",
    "outputId": "91ff830d-e333-46f6-e18f-3f89f6e723e5"
   },
   "outputs": [
    {
     "data": {
      "text/plain": [
       "tensor([[1.1511],\n",
       "        [1.1542],\n",
       "        [1.1573],\n",
       "        [1.1603],\n",
       "        [1.1634],\n",
       "        [1.1665],\n",
       "        [1.1695],\n",
       "        [1.1726],\n",
       "        [1.1757],\n",
       "        [1.1787],\n",
       "        [1.1818],\n",
       "        [1.1849],\n",
       "        [1.1879],\n",
       "        [1.1910],\n",
       "        [1.1941],\n",
       "        [1.1971],\n",
       "        [1.2002],\n",
       "        [1.2033],\n",
       "        [1.2063],\n",
       "        [1.2094]], dtype=torch.float64)"
      ]
     },
     "execution_count": 40,
     "metadata": {},
     "output_type": "execute_result"
    }
   ],
   "source": [
    "#Make Predictions with trained model\n",
    "pytorch_model.eval()\n",
    "with torch.inference_mode():\n",
    "  y_preds = pytorch_model(X_test)\n",
    "y_preds"
   ]
  },
  {
   "cell_type": "code",
   "execution_count": 41,
   "metadata": {
    "colab": {
     "base_uri": "https://localhost:8080/",
     "height": 445
    },
    "id": "ZAeE_Hj8iGUY",
    "outputId": "b27281d1-11f9-4a6a-d911-a60bd4fc3042"
   },
   "outputs": [
    {
     "data": {
      "image/png": "[encoded data removed]",
      "text/plain": [
       "<Figure size 800x500 with 1 Axes>"
      ]
     },
     "metadata": {},
     "output_type": "display_data"
    }
   ],
   "source": [
    "plot_predictions(predictions=y_preds)"
   ]
  },
  {
   "cell_type": "code",
   "execution_count": 43,
   "metadata": {
    "colab": {
     "base_uri": "https://localhost:8080/"
    },
    "id": "rASpHmmxRBmD",
    "outputId": "72d89cf1-8461-4416-8c46-90e4e84a99ef"
   },
   "outputs": [
    {
     "name": "stdout",
     "output_type": "stream",
     "text": [
      "Saving model to: models/01_pytorch_workflow_pytorch_model.pth\n"
     ]
    }
   ],
   "source": [
    "from pathlib import Path\n",
    "#Saving model\n",
    "# Create models directory\n",
    "model_path = Path(\"models\")\n",
    "model_path.mkdir(parents=True, exist_ok=True)\n",
    "\n",
    "# Create model save path\n",
    "model_name = \"01_pytorch_workflow_pytorch_model.pth\"\n",
    "model_save_path = model_path / model_name\n",
    "\n",
    "# Save the model state dict\n",
    "print(f\"Saving model to: {model_save_path}\")\n",
    "torch.save(obj=pytorch_model.state_dict(), f=model_save_path)"
   ]
  },
  {
   "cell_type": "code",
   "execution_count": 44,
   "metadata": {
    "colab": {
     "base_uri": "https://localhost:8080/"
    },
    "id": "yXxu53V2kIEk",
    "outputId": "d6908b73-0f8a-4c6a-bb9f-9d579a2bd3e3"
   },
   "outputs": [
    {
     "name": "stdout",
     "output_type": "stream",
     "text": [
      "-rw-r--r-- 1 root root 1780 Feb  7 08:38 models/01_pytorch_workflow_pytorch_model.pth\n"
     ]
    }
   ],
   "source": [
    "# Check the saved file path\n",
    "!ls -l models/01_pytorch_workflow_pytorch_model.pth"
   ]
  },
  {
   "cell_type": "code",
   "execution_count": 45,
   "metadata": {
    "colab": {
     "base_uri": "https://localhost:8080/"
    },
    "id": "XyhXDbhClVy5",
    "outputId": "3934c31a-c55f-4833-e155-b8864e9210e6"
   },
   "outputs": [
    {
     "name": "stderr",
     "output_type": "stream",
     "text": [
      "<ipython-input-45-8d3ef4f4c5fc>:6: FutureWarning: You are using `torch.load` with `weights_only=False` (the current default value), which uses the default pickle module implicitly. It is possible to construct malicious pickle data which will execute arbitrary code during unpickling (See https://github.com/pytorch/pytorch/blob/main/SECURITY.md#untrusted-models for more details). In a future release, the default value for `weights_only` will be flipped to `True`. This limits the functions that could be executed during unpickling. Arbitrary objects will no longer be allowed to be loaded via this mode unless they are explicitly allowlisted by the user via `torch.serialization.add_safe_globals`. We recommend you start setting `weights_only=True` for any use case where you don't have full control of the loaded file. Please open an issue on GitHub for any issues related to this experimental feature.\n",
      "  loaded_pytorch_model.load_state_dict(torch.load(f=model_save_path))\n"
     ]
    },
    {
     "data": {
      "text/plain": [
       "<All keys matched successfully>"
      ]
     },
     "execution_count": 45,
     "metadata": {},
     "output_type": "execute_result"
    }
   ],
   "source": [
    "#Loading the saved model\n",
    "#Instance instantiation\n",
    "loaded_pytorch_model = LinearRegressionModel()\n",
    "\n",
    "#Loading the state_dict()\n",
    "loaded_pytorch_model.load_state_dict(torch.load(f=model_save_path))"
   ]
  },
  {
   "cell_type": "code",
   "execution_count": 46,
   "metadata": {
    "colab": {
     "base_uri": "https://localhost:8080/"
    },
    "id": "R1m5wlRPkU89",
    "outputId": "540168af-fb75-47b4-e481-1f6c61132b37"
   },
   "outputs": [
    {
     "data": {
      "text/plain": [
       "tensor([[True],\n",
       "        [True],\n",
       "        [True],\n",
       "        [True],\n",
       "        [True],\n",
       "        [True],\n",
       "        [True],\n",
       "        [True],\n",
       "        [True],\n",
       "        [True],\n",
       "        [True],\n",
       "        [True],\n",
       "        [True],\n",
       "        [True],\n",
       "        [True],\n",
       "        [True],\n",
       "        [True],\n",
       "        [True],\n",
       "        [True],\n",
       "        [True]])"
      ]
     },
     "execution_count": 46,
     "metadata": {},
     "output_type": "execute_result"
    }
   ],
   "source": [
    "#Performing predictions with the loaded model\n",
    "loaded_pytorch_model.eval()\n",
    "with torch.inference_mode():\n",
    "  loaded_pytorch_preds = loaded_pytorch_model(X_test)\n",
    "\n",
    "#Comparing the results with the original model prediction\n",
    "y_preds == loaded_pytorch_preds"
   ]
  },
  {
   "cell_type": "markdown",
   "metadata": {
    "id": "CERB-ceCU9i3"
   },
   "source": [
    "SUBMIT ASSIGNMENT HERE: [CLICK ME ▶️](https://forms.gle/876vi4aNoFf4A2mU7)"
   ]
  }
 ],
 "metadata": {
  "colab": {
   "provenance": []
  },
  "kernelspec": {
   "display_name": "Python 3",
   "name": "python3"
  },
  "language_info": {
   "name": "python"
  }
 },
 "nbformat": 4,
 "nbformat_minor": 0
}

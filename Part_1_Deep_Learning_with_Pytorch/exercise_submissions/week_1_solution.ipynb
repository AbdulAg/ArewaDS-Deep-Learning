{
 "cells": [
  {
   "cell_type": "markdown",
   "metadata": {
    "id": "AzDBM_v4iMe7"
   },
   "source": [
    "# 00. PyTorch Fundamentals Exercises\n",
    "\n",
    "### 1. Documentation reading\n",
    "\n",
    "A big part of deep learning (and learning to code in general) is getting familiar with the documentation of a certain framework you're using. We'll be using the PyTorch documentation a lot throughout the rest of this course. So I'd recommend spending 10-minutes reading the following (it's okay if you don't get some things for now, the focus is not yet full understanding, it's awareness):\n",
    "  * The documentation on [`torch.Tensor`](https://pytorch.org/docs/stable/tensors.html#torch-tensor).\n",
    "  * The documentation on [`torch.cuda`](https://pytorch.org/docs/master/notes/cuda.html#cuda-semantics).\n",
    "\n"
   ]
  },
  {
   "cell_type": "markdown",
   "metadata": {
    "id": "1vm_yqvQxUU9"
   },
   "source": [
    "**Arewa Data Science Academy**\n",
    "\n",
    "**Deep Learning Cohort 1.0**\n",
    "\n",
    "**Name: Abdulrahman Abdullahi Garba**\n",
    "\n",
    "**Email: abdulrahmanabdullahigarba@gmail.com**\n",
    "\n",
    "**Title: Week 1 Solution**"
   ]
  },
  {
   "cell_type": "code",
   "execution_count": null,
   "metadata": {
    "id": "bGD0oD8Kizak"
   },
   "outputs": [],
   "source": [
    "# No code solution (reading)"
   ]
  },
  {
   "cell_type": "markdown",
   "metadata": {
    "id": "__iXqqz-ioUJ"
   },
   "source": [
    "### 2. Create a random tensor with shape `(7, 7)`.\n"
   ]
  },
  {
   "cell_type": "code",
   "execution_count": null,
   "metadata": {
    "colab": {
     "base_uri": "https://localhost:8080/"
    },
    "id": "6pUq9Dc8i2L7",
    "outputId": "e62d50a9-68fb-43c5-b60c-19bd8ace15ec"
   },
   "outputs": [
    {
     "data": {
      "text/plain": [
       "tensor([[0.1799, 0.6365, 0.9419, 0.1368, 0.7999, 0.8658, 0.6240],\n",
       "        [0.6297, 0.1723, 0.3819, 0.8732, 0.9639, 0.0625, 0.2060],\n",
       "        [0.5595, 0.6773, 0.5750, 0.8281, 0.4595, 0.1019, 0.7243],\n",
       "        [0.2069, 0.6368, 0.8009, 0.6234, 0.3033, 0.4304, 0.0286],\n",
       "        [0.7545, 0.6755, 0.8615, 0.1438, 0.2675, 0.7273, 0.9466],\n",
       "        [0.7210, 0.4247, 0.2496, 0.0260, 0.6359, 0.7436, 0.6297],\n",
       "        [0.5450, 0.3955, 0.1602, 0.3927, 0.2484, 0.2920, 0.8730]])"
      ]
     },
     "execution_count": 2,
     "metadata": {},
     "output_type": "execute_result"
    }
   ],
   "source": [
    "# Import torch\n",
    "import torch\n",
    "# Create random tensor\n",
    "random = torch.rand(size = (7, 7))\n",
    "random"
   ]
  },
  {
   "cell_type": "markdown",
   "metadata": {
    "id": "9-XxvRLfiqkR"
   },
   "source": [
    "### 3. Perform a matrix multiplication on the tensor from 2 with another random tensor with shape `(1, 7)` (hint: you may have to transpose the second tensor)."
   ]
  },
  {
   "cell_type": "code",
   "execution_count": null,
   "metadata": {
    "colab": {
     "base_uri": "https://localhost:8080/"
    },
    "id": "NcLqR0Sbi_vT",
    "outputId": "5238417b-0822-4bff-80cf-bdb005c2e733"
   },
   "outputs": [
    {
     "data": {
      "text/plain": [
       "tensor([[0.1514, 0.2009, 0.3982, 0.0096, 0.3660, 0.5294, 0.5566],\n",
       "        [0.5301, 0.0544, 0.1614, 0.0613, 0.4411, 0.0382, 0.1838],\n",
       "        [0.4710, 0.2138, 0.2431, 0.0581, 0.2103, 0.0623, 0.6460],\n",
       "        [0.1742, 0.2010, 0.3386, 0.0437, 0.1388, 0.2632, 0.0255],\n",
       "        [0.6352, 0.2132, 0.3642, 0.0101, 0.1224, 0.4447, 0.8443],\n",
       "        [0.6070, 0.1341, 0.1055, 0.0018, 0.2910, 0.4547, 0.5616],\n",
       "        [0.4588, 0.1249, 0.0677, 0.0275, 0.1137, 0.1785, 0.7786]])"
      ]
     },
     "execution_count": 3,
     "metadata": {},
     "output_type": "execute_result"
    }
   ],
   "source": [
    "# Create another random tensor\n",
    "new_random = torch.rand(size = (1, 7))\n",
    "torch.transpose(new_random, 0, 1)\n",
    "# Perform matrix multiplication\n",
    "random * new_random"
   ]
  },
  {
   "cell_type": "markdown",
   "metadata": {
    "id": "eiutdKUFiryU"
   },
   "source": [
    "### 4. Set the random seed to `0` and do 2 & 3 over again.\n",
    "\n",
    "The output should be:\n",
    "```\n",
    "(tensor([[1.8542],\n",
    "         [1.9611],\n",
    "         [2.2884],\n",
    "         [3.0481],\n",
    "         [1.7067],\n",
    "         [2.5290],\n",
    "         [1.7989]]), torch.Size([7, 1]))\n",
    "```"
   ]
  },
  {
   "cell_type": "code",
   "execution_count": null,
   "metadata": {
    "colab": {
     "base_uri": "https://localhost:8080/"
    },
    "id": "D-lOWI_1jRMm",
    "outputId": "50dec68f-7b4d-463d-b388-c1f79728fdf5"
   },
   "outputs": [
    {
     "data": {
      "text/plain": [
       "tensor([[1.8542],\n",
       "        [1.9611],\n",
       "        [2.2884],\n",
       "        [3.0481],\n",
       "        [1.7067],\n",
       "        [2.5290],\n",
       "        [1.7989]])"
      ]
     },
     "execution_count": 4,
     "metadata": {},
     "output_type": "execute_result"
    }
   ],
   "source": [
    "# Set manual seed\n",
    "torch.manual_seed(0)\n",
    "\n",
    "# Create two random tensors\n",
    "random_tensor1 = torch.rand(size = (7, 7))\n",
    "random_tensor2 = torch.rand(size = (7, 1))\n",
    "# Matrix multiply tensors\n",
    "torch.matmul(random_tensor1, random_tensor2)"
   ]
  },
  {
   "cell_type": "markdown",
   "metadata": {
    "id": "ezY6ks9Cis37"
   },
   "source": [
    "### 5. Speaking of random seeds, we saw how to set it with `torch.manual_seed()` but is there a GPU equivalent? (hint: you'll need to look into the documentation for `torch.cuda` for this one)\n",
    "  * If there is, set the GPU random seed to `1234`."
   ]
  },
  {
   "cell_type": "code",
   "execution_count": null,
   "metadata": {
    "id": "_LKWcfSTjp00"
   },
   "outputs": [],
   "source": [
    "# Set random seed on the GPU\n",
    "torch.cuda.manual_seed(123)"
   ]
  },
  {
   "cell_type": "markdown",
   "metadata": {
    "id": "Ir9qSaj6it4n"
   },
   "source": [
    "\n",
    "### 6. Create two random tensors of shape `(2, 3)` and send them both to the GPU (you'll need access to a GPU for this). Set `torch.manual_seed(1234)` when creating the tensors (this doesn't have to be the GPU random seed). The output should be something like:\n",
    "\n",
    "```\n",
    "Device: cuda\n",
    "(tensor([[0.0290, 0.4019, 0.2598],\n",
    "         [0.3666, 0.0583, 0.7006]], device='cuda:0'),\n",
    " tensor([[0.0518, 0.4681, 0.6738],\n",
    "         [0.3315, 0.7837, 0.5631]], device='cuda:0'))\n",
    "```"
   ]
  },
  {
   "cell_type": "code",
   "execution_count": null,
   "metadata": {
    "colab": {
     "base_uri": "https://localhost:8080/"
    },
    "id": "azXExiFZj5nm",
    "outputId": "d4564f21-3426-4859-91be-2a5f67e9ac71"
   },
   "outputs": [
    {
     "name": "stdout",
     "output_type": "stream",
     "text": [
      "tensor([[0.1272, 0.8167, 0.5440],\n",
      "        [0.6601, 0.2721, 0.9737]], device='cuda:0')\n",
      "tensor([[0.6208, 0.0276, 0.3255],\n",
      "        [0.1114, 0.6812, 0.3608]], device='cuda:0')\n"
     ]
    }
   ],
   "source": [
    "# Set random seed\n",
    "torch.manual_seed(1234)\n",
    "\n",
    "# Check for access to GPU\n",
    "torch.cuda.is_available()\n",
    "# Create two random tensors on GPU\n",
    "random_on_gpu1 = torch.rand((2, 3), device = 'cuda')\n",
    "random_on_gpu2 = torch.rand((2, 3), device = 'cuda')\n",
    "print(random_on_gpu1)\n",
    "print(random_on_gpu2)"
   ]
  },
  {
   "cell_type": "markdown",
   "metadata": {
    "id": "5TlAxeiSiu1y"
   },
   "source": [
    "\n",
    "### 7. Perform a matrix multiplication on the tensors you created in 6 (again, you may have to adjust the shapes of one of the tensors).\n",
    "\n",
    "The output should look like:\n",
    "```\n",
    "(tensor([[0.3647, 0.4709],\n",
    "         [0.5184, 0.5617]], device='cuda:0'), torch.Size([2, 2]))\n",
    "```"
   ]
  },
  {
   "cell_type": "code",
   "execution_count": null,
   "metadata": {
    "colab": {
     "base_uri": "https://localhost:8080/"
    },
    "id": "fAeG7ox0lHEO",
    "outputId": "c25754f6-ac2a-432b-8d9f-5f4a688514bb"
   },
   "outputs": [
    {
     "data": {
      "text/plain": [
       "tensor([[0.2786, 0.7668],\n",
       "        [0.7343, 0.6102]], device='cuda:0')"
      ]
     },
     "execution_count": 21,
     "metadata": {},
     "output_type": "execute_result"
    }
   ],
   "source": [
    "# Perform matmul on tensor_A and tensor_B\n",
    "transpose_random_on_gpu2 = torch.transpose(random_on_gpu2, 0, 1)\n",
    "result = torch.matmul(random_on_gpu1, transpose_random_on_gpu2)\n",
    "result"
   ]
  },
  {
   "cell_type": "markdown",
   "metadata": {
    "id": "G7qfa5CSivwg"
   },
   "source": [
    "### 8. Find the maximum and minimum values of the output of 7."
   ]
  },
  {
   "cell_type": "code",
   "execution_count": null,
   "metadata": {
    "id": "Fu8_3mZpllOd"
   },
   "outputs": [],
   "source": [
    "# Find max\n",
    "max_value = torch.max(result)\n",
    "# Find min\n",
    "min_value = torch.min(result)"
   ]
  },
  {
   "cell_type": "code",
   "execution_count": null,
   "metadata": {
    "colab": {
     "base_uri": "https://localhost:8080/"
    },
    "id": "ea5K4jU6R8Fz",
    "outputId": "f4a0f3d2-9501-4f14-bc0a-20c00752fd3c"
   },
   "outputs": [
    {
     "name": "stdout",
     "output_type": "stream",
     "text": [
      "Maximum value:  tensor(0.7668, device='cuda:0')\n",
      "Minimum value:  tensor(0.2786, device='cuda:0')\n"
     ]
    }
   ],
   "source": [
    "print(\"Maximum value: \", max_value)\n",
    "print(\"Minimum value: \", min_value)"
   ]
  },
  {
   "cell_type": "markdown",
   "metadata": {
    "id": "wrTj5FgNiw47"
   },
   "source": [
    "### 9. Find the maximum and minimum index values of the output of 7."
   ]
  },
  {
   "cell_type": "code",
   "execution_count": null,
   "metadata": {
    "colab": {
     "base_uri": "https://localhost:8080/"
    },
    "id": "CCEKt4K2lsfQ",
    "outputId": "e26d47b7-4f34-4800-ca30-d0c29c17cd34"
   },
   "outputs": [
    {
     "name": "stdout",
     "output_type": "stream",
     "text": [
      "Maximum Index Value:  tensor(1, device='cuda:0')\n",
      "Minimum Index Value:  tensor(0, device='cuda:0')\n"
     ]
    }
   ],
   "source": [
    "# Find arg max\n",
    "max_index = torch.argmax(result)\n",
    "print(\"Maximum Index Value: \", max_index)\n",
    "# Find arg min\n",
    "min_index = torch.argmin(result)\n",
    "print(\"Minimum Index Value: \", min_index)"
   ]
  },
  {
   "cell_type": "markdown",
   "metadata": {
    "id": "hmeybz4uixy7"
   },
   "source": [
    "\n",
    "### 10. Make a random tensor with shape `(1, 1, 1, 10)` and then create a new tensor with all the `1` dimensions removed to be left with a tensor of shape `(10)`. Set the seed to `7` when you create it and print out the first tensor and it's shape as well as the second tensor and it's shape.\n",
    "\n",
    "The output should look like:\n",
    "\n",
    "```\n",
    "tensor([[[[0.5349, 0.1988, 0.6592, 0.6569, 0.2328, 0.4251, 0.2071, 0.6297,\n",
    "           0.3653, 0.8513]]]]) torch.Size([1, 1, 1, 10])\n",
    "tensor([0.5349, 0.1988, 0.6592, 0.6569, 0.2328, 0.4251, 0.2071, 0.6297, 0.3653,\n",
    "        0.8513]) torch.Size([10])\n",
    "```"
   ]
  },
  {
   "cell_type": "code",
   "execution_count": null,
   "metadata": {
    "colab": {
     "base_uri": "https://localhost:8080/"
    },
    "id": "TQ9zbRzVl1jV",
    "outputId": "eeb7df02-c35a-4567-86ff-eae7678a6e9f"
   },
   "outputs": [
    {
     "name": "stdout",
     "output_type": "stream",
     "text": [
      "The first tensor is tensor([[[[0.5349, 0.1988, 0.6592, 0.6569, 0.2328, 0.4251, 0.2071, 0.6297,\n",
      "           0.3653, 0.8513]]]]), and the shape is torch.Size([1, 1, 1, 10])\n",
      "The second tensor is tensor([0.5349, 0.1988, 0.6592, 0.6569, 0.2328, 0.4251, 0.2071, 0.6297, 0.3653,\n",
      "        0.8513]), and the shape is torch.Size([10])\n"
     ]
    }
   ],
   "source": [
    "# Set seed\n",
    "torch.manual_seed(7)\n",
    "\n",
    "# Create random tensor\n",
    "rand_tensor_4d = torch.rand((1, 1, 1, 10))\n",
    "\n",
    "# Remove single dimensions\n",
    "rand_tensor_1d = rand_tensor_4d.squeeze()\n",
    "# Print out tensors and their shapes\n",
    "print(f\"The first tensor is {rand_tensor_4d}, and the shape is {rand_tensor_4d.shape}\")\n",
    "print(f\"The second tensor is {rand_tensor_1d}, and the shape is {rand_tensor_1d.shape}\")\n"
   ]
  },
  {
   "cell_type": "code",
   "execution_count": null,
   "metadata": {
    "id": "x5vIRxtp6p7W"
   },
   "outputs": [],
   "source": []
  }
 ],
 "metadata": {
  "accelerator": "GPU",
  "colab": {
   "provenance": []
  },
  "kernelspec": {
   "display_name": "Python 3",
   "name": "python3"
  },
  "language_info": {
   "name": "python"
  }
 },
 "nbformat": 4,
 "nbformat_minor": 0
}
